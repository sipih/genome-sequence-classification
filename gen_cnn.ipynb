{
 "cells": [
  {
   "cell_type": "code",
   "execution_count": null,
   "metadata": {
    "id": "8NCWM_pr13bK"
   },
   "outputs": [],
   "source": []
  },
  {
   "cell_type": "code",
   "execution_count": null,
   "metadata": {
    "colab": {
     "base_uri": "https://localhost:8080/",
     "height": 63
    },
    "id": "3V820ydE6N2f",
    "outputId": "2ee6b769-0f92-4dc3-e1ae-0591b20e4772"
   },
   "outputs": [
    {
     "data": {
      "text/html": [
       "<p style=\"color: red;\">\n",
       "The default version of TensorFlow in Colab will soon switch to TensorFlow 2.x.<br>\n",
       "We recommend you <a href=\"https://www.tensorflow.org/guide/migrate\" target=\"_blank\">upgrade</a> now \n",
       "or ensure your notebook will continue to use TensorFlow 1.x via the <code>%tensorflow_version 1.x</code> magic:\n",
       "<a href=\"https://colab.research.google.com/notebooks/tensorflow_version.ipynb\" target=\"_blank\">more info</a>.</p>\n"
      ],
      "text/plain": [
       "<IPython.core.display.HTML object>"
      ]
     },
     "metadata": {
      "tags": []
     },
     "output_type": "display_data"
    }
   ],
   "source": [
    "import numpy as np\n",
    "import tensorflow as tf\n",
    "from tensorflow import keras\n",
    "from tensorflow.keras.models import Sequential\n",
    "from tensorflow.keras.layers import Dense, Dropout, Activation, Flatten\n",
    "from tensorflow.keras.layers import Conv1D, MaxPooling1D, GlobalMaxPooling1D\n",
    "from tensorflow.keras.callbacks import TensorBoard\n",
    "from tensorflow.keras.utils import to_categorical\n",
    "from sklearn import preprocessing\n",
    "import datetime\n",
    "import os\n",
    "\n"
   ]
  },
  {
   "cell_type": "code",
   "execution_count": null,
   "metadata": {
    "colab": {
     "base_uri": "https://localhost:8080/",
     "height": 136
    },
    "id": "ssejCrNw3oSm",
    "outputId": "5bfe0129-8b4a-4806-a9a5-69c4e13d5c60"
   },
   "outputs": [
    {
     "data": {
      "text/plain": [
       "array([[1],\n",
       "       [1],\n",
       "       [0],\n",
       "       ...,\n",
       "       [1],\n",
       "       [1],\n",
       "       [1]], dtype=int32)"
      ]
     },
     "execution_count": 22,
     "metadata": {
      "tags": []
     },
     "output_type": "execute_result"
    }
   ],
   "source": [
    "X = np.load('//content//train_x_all.npy')\n",
    "y = np.load('//content//train_y_all.npy')\n",
    "y.reshape(y.shape[0],1)"
   ]
  },
  {
   "cell_type": "code",
   "execution_count": null,
   "metadata": {
    "colab": {
     "base_uri": "https://localhost:8080/",
     "height": 136
    },
    "id": "Oo0e6EDOkPAP",
    "outputId": "6be89a83-62b6-4aba-92f2-1dbd19980e9c"
   },
   "outputs": [
    {
     "data": {
      "text/plain": [
       "array([[0., 1.],\n",
       "       [0., 1.],\n",
       "       [1., 0.],\n",
       "       ...,\n",
       "       [0., 1.],\n",
       "       [0., 1.],\n",
       "       [0., 1.]])"
      ]
     },
     "execution_count": 23,
     "metadata": {
      "tags": []
     },
     "output_type": "execute_result"
    }
   ],
   "source": [
    "from sklearn.preprocessing import OneHotEncoder\n",
    "onehot_encoder = OneHotEncoder(sparse=False)\n",
    "onehot_encoded_y = onehot_encoder.fit_transform(y)\n",
    "onehot_encoded_y"
   ]
  },
  {
   "cell_type": "code",
   "execution_count": null,
   "metadata": {
    "colab": {
     "base_uri": "https://localhost:8080/",
     "height": 34
    },
    "id": "6H8Ly3oQHB8P",
    "outputId": "af91fb06-e224-458f-af01-8c5a635df51f"
   },
   "outputs": [
    {
     "data": {
      "text/plain": [
       "(77531, 4, 101)"
      ]
     },
     "execution_count": 24,
     "metadata": {
      "tags": []
     },
     "output_type": "execute_result"
    }
   ],
   "source": [
    "X.shape"
   ]
  },
  {
   "cell_type": "code",
   "execution_count": null,
   "metadata": {
    "colab": {
     "base_uri": "https://localhost:8080/",
     "height": 34
    },
    "id": "3el_O3rMG2-u",
    "outputId": "8441f3f3-6a94-48fd-d3a6-9d5be40cc00c"
   },
   "outputs": [
    {
     "name": "stdout",
     "output_type": "stream",
     "text": [
      "(49600, 4, 105)\n"
     ]
    }
   ],
   "source": [
    "#padding 0.25 on boarder of arrays\n",
    "npad = ((0, 0), (0, 0), (2, 2))\n",
    "X_pad = np.pad(X, pad_width=npad, mode='constant', constant_values=0.25)\n",
    "print(X_pad.shape)"
   ]
  },
  {
   "cell_type": "markdown",
   "metadata": {
    "id": "KvxsYlapAXb5"
   },
   "source": [
    "from sklearn.preprocessing import OneHotEncoder\n",
    "onehot_encoder = OneHotEncoder(sparse=False)\n",
    "onehot_encoded_y = onehot_encoder.fit_transform(y)\n",
    "onehot_encoded_y"
   ]
  },
  {
   "cell_type": "code",
   "execution_count": null,
   "metadata": {
    "id": "VoQs1ccEBb69"
   },
   "outputs": [],
   "source": [
    "\n",
    "checkpoint_path = \"training_small/cp.ckpt\"\n",
    "checkpoint_dir = os.path.dirname(checkpoint_path)\n",
    "\n",
    "# Create checkpoint callback\n",
    "cp_callback = keras.callbacks.ModelCheckpoint(checkpoint_path, \n",
    "                                                 save_weights_only=True,\n",
    "                                                 verbose=1)\n",
    "# to save weights only for each 2 epoch another argument period = 2\n",
    "\n"
   ]
  },
  {
   "cell_type": "code",
   "execution_count": null,
   "metadata": {
    "id": "u5GMTPM0Amit"
   },
   "outputs": [],
   "source": [
    "\n",
    "model = Sequential()\n",
    "# 1 ConvLAyer with 16 filters size 24, Zeng et al. 2016 and DeepBind \n",
    "keras.initializers.RandomNormal(mean=0.0, stddev=0.05, seed=None)\n",
    "\n",
    "model.add(Conv1D(16, kernel_size = 24, data_format =\"channels_first\", input_shape=(4,101), kernel_initializer = 'glorot unifrom')\n",
    "))\n",
    "model.add(Activation('relu'))\n",
    "model.add(MaxPooling1D(pool_size =3, strides = 1,data_format='channels_first'))\n",
    "#Fully cnnected layer of 32 neurons\n",
    "model.add(Flatten())  \n",
    "model.add(Dense(32))\n",
    "model.add(Activation('relu'))\n",
    "#Drop out normalization of 0.5 ratio from exp design of Zeng et al. 2016 and DeepBind \n",
    "model.add(Dropout(0.5))\n",
    "#output layer of 2 ner\n",
    "model.add(Dense(2))\n",
    "model.add(Activation('sigmoid'))\n",
    "\n"
   ]
  },
  {
   "cell_type": "code",
   "execution_count": null,
   "metadata": {
    "id": "hskmA2rheigH"
   },
   "outputs": [],
   "source": [
    "# optimizer\n",
    "adadelta = keras.optimizers.Adadelta(learning_rate=0.005, rho=0.95)\n"
   ]
  },
  {
   "cell_type": "markdown",
   "metadata": {
    "id": "z8YIlzyIeAZx"
   },
   "source": []
  },
  {
   "cell_type": "code",
   "execution_count": null,
   "metadata": {
    "id": "dxpYhlKPA6Au"
   },
   "outputs": [],
   "source": [
    "model.compile(loss='binary_crossentropy',\n",
    "              optimizer='adadelta',\n",
    "              metrics=['accuracy'])\n"
   ]
  },
  {
   "cell_type": "code",
   "execution_count": null,
   "metadata": {
    "colab": {
     "base_uri": "https://localhost:8080/",
     "height": 578
    },
    "id": "Kb0a9zdwA642",
    "outputId": "d8034ce3-400e-4d17-bfd7-a950ee4a305c"
   },
   "outputs": [
    {
     "name": "stdout",
     "output_type": "stream",
     "text": [
      "Train on 62024 samples, validate on 15507 samples\n",
      "Epoch 1/8\n",
      "61400/62024 [============================>.] - ETA: 0s - loss: 0.6938 - acc: 0.5008\n",
      "Epoch 00001: saving model to training_small/cp.ckpt\n",
      "62024/62024 [==============================] - 3s 49us/sample - loss: 0.6938 - acc: 0.5008 - val_loss: 0.6935 - val_acc: 0.4979\n",
      "Epoch 2/8\n",
      "61900/62024 [============================>.] - ETA: 0s - loss: 0.6938 - acc: 0.4993\n",
      "Epoch 00002: saving model to training_small/cp.ckpt\n",
      "62024/62024 [==============================] - 2s 37us/sample - loss: 0.6938 - acc: 0.4992 - val_loss: 0.6934 - val_acc: 0.4970\n",
      "Epoch 3/8\n",
      "61100/62024 [============================>.] - ETA: 0s - loss: 0.6938 - acc: 0.4971\n",
      "Epoch 00003: saving model to training_small/cp.ckpt\n",
      "62024/62024 [==============================] - 2s 37us/sample - loss: 0.6938 - acc: 0.4971 - val_loss: 0.6934 - val_acc: 0.4981\n",
      "Epoch 4/8\n",
      "60800/62024 [============================>.] - ETA: 0s - loss: 0.6936 - acc: 0.5000\n",
      "Epoch 00004: saving model to training_small/cp.ckpt\n",
      "62024/62024 [==============================] - 2s 36us/sample - loss: 0.6936 - acc: 0.5000 - val_loss: 0.6934 - val_acc: 0.4978\n",
      "Epoch 5/8\n",
      "61900/62024 [============================>.] - ETA: 0s - loss: 0.6935 - acc: 0.5003\n",
      "Epoch 00005: saving model to training_small/cp.ckpt\n",
      "62024/62024 [==============================] - 2s 35us/sample - loss: 0.6935 - acc: 0.5002 - val_loss: 0.6933 - val_acc: 0.4977\n",
      "Epoch 6/8\n",
      "61400/62024 [============================>.] - ETA: 0s - loss: 0.6936 - acc: 0.5002\n",
      "Epoch 00006: saving model to training_small/cp.ckpt\n",
      "62024/62024 [==============================] - 2s 35us/sample - loss: 0.6936 - acc: 0.5003 - val_loss: 0.6933 - val_acc: 0.4969\n",
      "Epoch 7/8\n",
      "61600/62024 [============================>.] - ETA: 0s - loss: 0.6936 - acc: 0.4993\n",
      "Epoch 00007: saving model to training_small/cp.ckpt\n",
      "62024/62024 [==============================] - 2s 35us/sample - loss: 0.6936 - acc: 0.4992 - val_loss: 0.6933 - val_acc: 0.4965\n",
      "Epoch 8/8\n",
      "61400/62024 [============================>.] - ETA: 0s - loss: 0.6934 - acc: 0.5003\n",
      "Epoch 00008: saving model to training_small/cp.ckpt\n",
      "62024/62024 [==============================] - 2s 36us/sample - loss: 0.6934 - acc: 0.5003 - val_loss: 0.6933 - val_acc: 0.4971\n"
     ]
    }
   ],
   "source": [
    "history = model.fit(X, onehot_encoded_y,\n",
    "          batch_size=100,\n",
    "          epochs=8,\n",
    "          validation_split=0.2,\n",
    "          callbacks=[cp_callback])"
   ]
  },
  {
   "cell_type": "code",
   "execution_count": null,
   "metadata": {
    "id": "gjQHcTyYd27Y"
   },
   "outputs": [],
   "source": []
  },
  {
   "cell_type": "code",
   "execution_count": null,
   "metadata": {
    "colab": {
     "base_uri": "https://localhost:8080/",
     "height": 295
    },
    "id": "PD65RviY1pi7",
    "outputId": "258111b3-22ee-484d-db80-8c4a6195a603"
   },
   "outputs": [
    {
     "data": {
      "image/png": "[encoded data removed]",
      "text/plain": [
       "<Figure size 432x288 with 1 Axes>"
      ]
     },
     "metadata": {
      "tags": []
     },
     "output_type": "display_data"
    }
   ],
   "source": [
    "from matplotlib import pyplot as plt\n",
    "# summarize history for accuracy\n",
    "\n",
    "plt.plot(history.history['acc'])\n",
    "plt.plot(history.history['val_acc'])\n",
    "plt.title('model accuracy')\n",
    "plt.ylabel('accuracy')\n",
    "plt.xlabel('epoch')\n",
    "plt.legend(['train', 'test'], loc='upper left')\n",
    "#plt.show()\n",
    "plt.savefig(\"acc_16_24_uniform.png\")\n"
   ]
  },
  {
   "cell_type": "code",
   "execution_count": null,
   "metadata": {
    "colab": {
     "base_uri": "https://localhost:8080/",
     "height": 295
    },
    "id": "XViEIZTqlwRB",
    "outputId": "00f169f0-440a-415c-b4d6-35d803333538"
   },
   "outputs": [
    {
     "data": {
      "image/png": "[encoded data removed]",
      "text/plain": [
       "<Figure size 432x288 with 1 Axes>"
      ]
     },
     "metadata": {
      "tags": []
     },
     "output_type": "display_data"
    }
   ],
   "source": [
    "# summarize history for loss\n",
    "plt.plot(history.history['loss'])\n",
    "plt.plot(history.history['val_loss'])\n",
    "plt.title('model loss')\n",
    "plt.ylabel('loss')\n",
    "plt.xlabel('epoch')\n",
    "plt.legend(['train', 'test'], loc='upper left')\n",
    "#plt.show()\n",
    "plt.savefig(\"loss_16_24_uniform.png\")"
   ]
  },
  {
   "cell_type": "code",
   "execution_count": null,
   "metadata": {
    "id": "mpxU93Q8Zd_C"
   },
   "outputs": [],
   "source": [
    "from keras.models import load_model\n",
    "import h5py\n",
    "model.save('all_16_24_uniform.h5')"
   ]
  },
  {
   "cell_type": "markdown",
   "metadata": {
    "id": "PryD0SrZxO-z"
   },
   "source": [
    "#### Dowload saved model and graphs"
   ]
  },
  {
   "cell_type": "code",
   "execution_count": null,
   "metadata": {
    "id": "gfJ5YCL83Ejl"
   },
   "outputs": [],
   "source": [
    "from google.colab import files\n",
    "files.download('all_16_24_uniform.h5') "
   ]
  },
  {
   "cell_type": "code",
   "execution_count": null,
   "metadata": {
    "id": "UTYjZJCc3TEi"
   },
   "outputs": [],
   "source": [
    "files.download(\"loss_16_24_uniform.png\") "
   ]
  },
  {
   "cell_type": "code",
   "execution_count": null,
   "metadata": {
    "colab": {
     "base_uri": "https://localhost:8080/",
     "height": 129
    },
    "id": "VCCZ3Kvp4PHt",
    "outputId": "888a57f5-580e-4e05-d014-d64b73e97da6"
   },
   "outputs": [
    {
     "ename": "SyntaxError",
     "evalue": "ignored",
     "output_type": "error",
     "traceback": [
      "\u001b[0;36m  File \u001b[0;32m\"<ipython-input-53-34c2e1be5418>\"\u001b[0;36m, line \u001b[0;32m1\u001b[0m\n\u001b[0;31m    files.download(\"acc_16_24_uniform.png\"'\u001b[0m\n\u001b[0m                                            ^\u001b[0m\n\u001b[0;31mSyntaxError\u001b[0m\u001b[0;31m:\u001b[0m EOL while scanning string literal\n"
     ]
    }
   ],
   "source": [
    "files.download(\"acc_16_24_uniform.png\"' "
   ]
  },
  {
   "cell_type": "code",
   "execution_count": null,
   "metadata": {
    "colab": {
     "base_uri": "https://localhost:8080/",
     "height": 51
    },
    "id": "D4eRwH463ihO",
    "outputId": "97fc207a-e27b-4d04-8bba-f7df552532ac"
   },
   "outputs": [
    {
     "name": "stdout",
     "output_type": "stream",
     "text": [
      "8000/8000 [==============================] - 0s 52us/sample - loss: 0.5522 - acc: 0.7251\n",
      "Restored model, accuracy: 72.51%\n"
     ]
    }
   ],
   "source": [
    "model.load_weights(checkpoint_path)\n",
    "loss,acc = model.evaluate(X, onehot_encoded_y)\n",
    "print(\"Restored model, accuracy: {:5.2f}%\".format(100*acc))"
   ]
  },
  {
   "cell_type": "code",
   "execution_count": null,
   "metadata": {
    "colab": {
     "base_uri": "https://localhost:8080/",
     "height": 459
    },
    "id": "7P2xRXbnoeAD",
    "outputId": "fd4ded74-0f78-4c50-c199-2a72416dc3a7"
   },
   "outputs": [
    {
     "name": "stdout",
     "output_type": "stream",
     "text": [
      "Model: \"sequential_1\"\n",
      "_________________________________________________________________\n",
      "Layer (type)                 Output Shape              Param #   \n",
      "=================================================================\n",
      "conv1d_1 (Conv1D)            (None, 16, 78)            1552      \n",
      "_________________________________________________________________\n",
      "activation_3 (Activation)    (None, 16, 78)            0         \n",
      "_________________________________________________________________\n",
      "max_pooling1d_1 (MaxPooling1 (None, 5, 78)             0         \n",
      "_________________________________________________________________\n",
      "flatten_1 (Flatten)          (None, 390)               0         \n",
      "_________________________________________________________________\n",
      "dense_2 (Dense)              (None, 32)                12512     \n",
      "_________________________________________________________________\n",
      "activation_4 (Activation)    (None, 32)                0         \n",
      "_________________________________________________________________\n",
      "dropout_1 (Dropout)          (None, 32)                0         \n",
      "_________________________________________________________________\n",
      "dense_3 (Dense)              (None, 2)                 66        \n",
      "_________________________________________________________________\n",
      "activation_5 (Activation)    (None, 2)                 0         \n",
      "=================================================================\n",
      "Total params: 14,130\n",
      "Trainable params: 14,130\n",
      "Non-trainable params: 0\n",
      "_________________________________________________________________\n"
     ]
    }
   ],
   "source": [
    "# Recreate the exact same model, including weights and optimizer.\n",
    "new_model = keras.models.load_model('large_model_cnn.h5')\n",
    "new_model.summary()\n"
   ]
  },
  {
   "cell_type": "code",
   "execution_count": null,
   "metadata": {
    "colab": {
     "base_uri": "https://localhost:8080/",
     "height": 51
    },
    "id": "wvlTKS_18NW9",
    "outputId": "1fc6405a-2627-40e2-e3cf-19ca53a2d1b5"
   },
   "outputs": [
    {
     "name": "stdout",
     "output_type": "stream",
     "text": [
      "8000/8000 [==============================] - 1s 64us/sample - loss: 0.5522 - acc: 0.7251\n",
      "Restored model, accuracy: 72.51%\n"
     ]
    }
   ],
   "source": [
    "loss, acc = new_model.evaluate(X, onehot_encoded_y)\n",
    "print(\"Restored model, accuracy: {:5.2f}%\".format(100*acc))"
   ]
  },
  {
   "cell_type": "markdown",
   "metadata": {
    "id": "MpiIULrO6U7d"
   },
   "source": [
    "#### Save the weights\n",
    "model.save_weights('./checkpoints/my_checkpoint')\n",
    "\n",
    "#### Restore the weights\n",
    "model = create_model()\n",
    "model.load_weights('./checkpoints/my_checkpoint')\n"
   ]
  },
  {
   "cell_type": "code",
   "execution_count": null,
   "metadata": {
    "id": "H8OUpy-aNzX1"
   },
   "outputs": [],
   "source": []
  },
  {
   "cell_type": "markdown",
   "metadata": {
    "id": "zeQsqBDNN3GD"
   },
   "source": [
    "#### Cross Validation\n"
   ]
  },
  {
   "cell_type": "code",
   "execution_count": 1,
   "metadata": {
    "id": "ifHZdmT2nKvC"
   },
   "outputs": [
    {
     "ename": "NameError",
     "evalue": "name 'np' is not defined",
     "output_type": "error",
     "traceback": [
      "\u001b[1;31m---------------------------------------------------------------------------\u001b[0m",
      "\u001b[1;31mNameError\u001b[0m                                 Traceback (most recent call last)",
      "\u001b[1;32m<ipython-input-1-31d74049d23e>\u001b[0m in \u001b[0;36m<module>\u001b[1;34m\u001b[0m\n\u001b[1;32m----> 1\u001b[1;33m \u001b[0mX\u001b[0m \u001b[1;33m=\u001b[0m \u001b[0mnp\u001b[0m\u001b[1;33m.\u001b[0m\u001b[0mload\u001b[0m\u001b[1;33m(\u001b[0m\u001b[1;34m'//content//gdrive//My Drive//ml_lab_project//Pickle//Cross_validation//train_x_all.npy'\u001b[0m\u001b[1;33m)\u001b[0m \u001b[1;31m# ds2 =2681,ds3=69435, ds4=3926,ds5=11275, ds6=103174, ds7 =7222, ds8 =2563, ds9 = 25512\u001b[0m\u001b[1;33m\u001b[0m\u001b[1;33m\u001b[0m\u001b[0m\n\u001b[0m\u001b[0;32m      2\u001b[0m \u001b[0my\u001b[0m \u001b[1;33m=\u001b[0m \u001b[0mnp\u001b[0m\u001b[1;33m.\u001b[0m\u001b[0mload\u001b[0m\u001b[1;33m(\u001b[0m\u001b[1;34m'//content//gdrive//My Drive//ml_lab_project//Pickle//Cross_validation//train_y_all.npy'\u001b[0m\u001b[1;33m)\u001b[0m\u001b[1;33m\u001b[0m\u001b[1;33m\u001b[0m\u001b[0m\n\u001b[0;32m      3\u001b[0m \u001b[1;33m\u001b[0m\u001b[0m\n",
      "\u001b[1;31mNameError\u001b[0m: name 'np' is not defined"
     ]
    }
   ],
   "source": [
    "X = np.load('//content//gdrive//My Drive//ml_lab_project//Pickle//Cross_validation//train_x_all.npy') # ds2 =2681,ds3=69435, ds4=3926,ds5=11275, ds6=103174, ds7 =7222, ds8 =2563, ds9 = 25512\n",
    "y = np.load('//content//gdrive//My Drive//ml_lab_project//Pickle//Cross_validation//train_y_all.npy')\n",
    "\n"
   ]
  },
  {
   "cell_type": "code",
   "execution_count": null,
   "metadata": {
    "colab": {
     "base_uri": "https://localhost:8080/",
     "height": 34
    },
    "id": "ZLvklxaLnnLY",
    "outputId": "51cf4022-00b8-45e3-f133-b30902f73009"
   },
   "outputs": [
    {
     "name": "stdout",
     "output_type": "stream",
     "text": [
      "(77531, 4, 101)\n"
     ]
    }
   ],
   "source": [
    "print(X.shape)"
   ]
  },
  {
   "cell_type": "code",
   "execution_count": null,
   "metadata": {
    "colab": {
     "base_uri": "https://localhost:8080/",
     "height": 34
    },
    "id": "9Tk605PRnuTS",
    "outputId": "33618175-7114-4303-9b4e-00c2f1365582"
   },
   "outputs": [
    {
     "name": "stdout",
     "output_type": "stream",
     "text": [
      "(77531, 1)\n"
     ]
    }
   ],
   "source": [
    "print(y.shape)"
   ]
  },
  {
   "cell_type": "code",
   "execution_count": null,
   "metadata": {
    "id": "zHdjCzEZpUK0"
   },
   "outputs": [],
   "source": [
    "y.shape[0]"
   ]
  },
  {
   "cell_type": "code",
   "execution_count": null,
   "metadata": {
    "colab": {
     "base_uri": "https://localhost:8080/",
     "height": 136
    },
    "id": "p_b4V6Ghnmfo",
    "outputId": "04659665-2d88-480c-b444-a3d4790b76cf"
   },
   "outputs": [
    {
     "data": {
      "text/plain": [
       "array([[1],\n",
       "       [1],\n",
       "       [0],\n",
       "       ...,\n",
       "       [1],\n",
       "       [1],\n",
       "       [1]], dtype=int32)"
      ]
     },
     "execution_count": 8,
     "metadata": {
      "tags": []
     },
     "output_type": "execute_result"
    }
   ],
   "source": [
    "y.reshape(y.shape[0],1)"
   ]
  },
  {
   "cell_type": "code",
   "execution_count": null,
   "metadata": {
    "colab": {
     "base_uri": "https://localhost:8080/",
     "height": 136
    },
    "id": "EvsCOIDendav",
    "outputId": "5d4309ee-64e7-4a6d-af47-21315386defb"
   },
   "outputs": [
    {
     "data": {
      "text/plain": [
       "array([[0., 1.],\n",
       "       [0., 1.],\n",
       "       [1., 0.],\n",
       "       ...,\n",
       "       [0., 1.],\n",
       "       [0., 1.],\n",
       "       [0., 1.]])"
      ]
     },
     "execution_count": 9,
     "metadata": {
      "tags": []
     },
     "output_type": "execute_result"
    }
   ],
   "source": [
    "from sklearn.preprocessing import OneHotEncoder\n",
    "onehot_encoder = OneHotEncoder(sparse=False)\n",
    "onehot_encoded_y = onehot_encoder.fit_transform(y)\n",
    "onehot_encoded_y"
   ]
  },
  {
   "cell_type": "code",
   "execution_count": null,
   "metadata": {
    "colab": {
     "base_uri": "https://localhost:8080/",
     "height": 34
    },
    "id": "Taai_NstnUoA",
    "outputId": "91c382ba-67fa-4446-ff67-b1eafdd557d8"
   },
   "outputs": [
    {
     "name": "stdout",
     "output_type": "stream",
     "text": [
      "(77531, 4, 105)\n"
     ]
    }
   ],
   "source": [
    "\n",
    "#padding 0.25 on boarder of arrays\n",
    "npad = ((0, 0), (0, 0), (2, 2))\n",
    "X_pad = np.pad(X, pad_width=npad, mode='constant', constant_values=0.25)\n",
    "print(X_pad.shape)"
   ]
  },
  {
   "cell_type": "code",
   "execution_count": null,
   "metadata": {
    "id": "GIH0eEI0l3qu"
   },
   "outputs": [],
   "source": [
    "def create_and_fit_model(X_train, X_val, y_train, y_val):\n",
    "      model = Sequential()\n",
    "      # 1 ConvLAyer with 16 filters size 24, Zeng et al. 2016 and DeepBind \n",
    "      keras.initializers.RandomNormal(mean=0.0, stddev=0.01, seed=None)\n",
    "      model.add(Conv1D(16, kernel_size = 24, data_format =\"channels_first\", input_shape=(4,101)))\n",
    "      model.add(Activation('relu'))\n",
    "      model.add(MaxPooling1D(pool_size =3, strides = 1,data_format='channels_first'))\n",
    "      #Fully cnnected layer of 32 neurons\n",
    "      model.add(Flatten())  \n",
    "      model.add(Dense(32))\n",
    "      model.add(Activation('relu'))\n",
    "      #Drop out normalization of 0.5 ratio from exp design of Zeng et al. 2016 and DeepBind \n",
    "      model.add(Dropout(0.5))\n",
    "      #output layer of 2 ner\n",
    "      model.add(Dense(2))\n",
    "      model.add(Activation('sigmoid'))\n",
    "      # optimizer\n",
    "      adadelta = keras.optimizers.Adadelta(learning_rate=0.05, rho=0.95)\n",
    "      model.compile(loss='binary_crossentropy',\n",
    "                    optimizer='adadelta',\n",
    "                    metrics=['accuracy'])\n",
    "      history = model.fit(X_train, y_train,\n",
    "                          validation_data =(X_val, y_val),\n",
    "                batch_size=100,\n",
    "                epochs=8,\n",
    "                callbacks=[cp_callback])\n",
    "      val_acc = model.evaluate(X_val, y_val, verbose = 1)\n",
    "      return model, val_acc"
   ]
  },
  {
   "cell_type": "code",
   "execution_count": null,
   "metadata": {
    "id": "R1Q2TJBcOc5r"
   },
   "outputs": [],
   "source": [
    "from sklearn.model_selection import train_test_split\n"
   ]
  },
  {
   "cell_type": "code",
   "execution_count": 3,
   "metadata": {
    "colab": {
     "base_uri": "https://localhost:8080/",
     "height": 1000
    },
    "id": "NLw6BdaJqn91",
    "outputId": "0d6bba71-0e50-4430-ca3c-4539cbf4a529"
   },
   "outputs": [
    {
     "ename": "NameError",
     "evalue": "name 'train_test_split' is not defined",
     "output_type": "error",
     "traceback": [
      "\u001b[1;31m---------------------------------------------------------------------------\u001b[0m",
      "\u001b[1;31mNameError\u001b[0m                                 Traceback (most recent call last)",
      "\u001b[1;32m<ipython-input-3-fadebab03a42>\u001b[0m in \u001b[0;36m<module>\u001b[1;34m\u001b[0m\n\u001b[0;32m      4\u001b[0m \u001b[1;32mfor\u001b[0m \u001b[0m_\u001b[0m \u001b[1;32min\u001b[0m \u001b[0mrange\u001b[0m\u001b[1;33m(\u001b[0m\u001b[0mn_folds\u001b[0m\u001b[1;33m)\u001b[0m\u001b[1;33m:\u001b[0m\u001b[1;33m\u001b[0m\u001b[1;33m\u001b[0m\u001b[0m\n\u001b[0;32m      5\u001b[0m     \u001b[1;31m# split data\u001b[0m\u001b[1;33m\u001b[0m\u001b[1;33m\u001b[0m\u001b[1;33m\u001b[0m\u001b[0m\n\u001b[1;32m----> 6\u001b[1;33m     \u001b[0mX_train\u001b[0m\u001b[1;33m,\u001b[0m \u001b[0mX_val\u001b[0m\u001b[1;33m,\u001b[0m \u001b[0my_train\u001b[0m\u001b[1;33m,\u001b[0m \u001b[0my_val\u001b[0m \u001b[1;33m=\u001b[0m \u001b[0mtrain_test_split\u001b[0m\u001b[1;33m(\u001b[0m\u001b[0mX\u001b[0m\u001b[1;33m,\u001b[0m  \u001b[0monehot_encoded_y\u001b[0m\u001b[1;33m,\u001b[0m \u001b[0mtest_size\u001b[0m\u001b[1;33m=\u001b[0m\u001b[1;36m0.10\u001b[0m\u001b[1;33m,\u001b[0m \u001b[0mrandom_state\u001b[0m \u001b[1;33m=\u001b[0m \u001b[0mnp\u001b[0m\u001b[1;33m.\u001b[0m\u001b[0mrandom\u001b[0m\u001b[1;33m.\u001b[0m\u001b[0mrandint\u001b[0m\u001b[1;33m(\u001b[0m\u001b[1;36m1\u001b[0m\u001b[1;33m,\u001b[0m\u001b[1;36m1000\u001b[0m\u001b[1;33m,\u001b[0m \u001b[1;36m1\u001b[0m\u001b[1;33m)\u001b[0m\u001b[1;33m[\u001b[0m\u001b[1;36m0\u001b[0m\u001b[1;33m]\u001b[0m\u001b[1;33m,\u001b[0m \u001b[0mstratify\u001b[0m \u001b[1;33m=\u001b[0m \u001b[0monehot_encoded_y\u001b[0m\u001b[1;33m)\u001b[0m\u001b[1;33m\u001b[0m\u001b[1;33m\u001b[0m\u001b[0m\n\u001b[0m\u001b[0;32m      7\u001b[0m     \u001b[1;31m# evaluate model\u001b[0m\u001b[1;33m\u001b[0m\u001b[1;33m\u001b[0m\u001b[1;33m\u001b[0m\u001b[0m\n\u001b[0;32m      8\u001b[0m     \u001b[0mmodel\u001b[0m\u001b[1;33m,\u001b[0m \u001b[0mtest_acc\u001b[0m \u001b[1;33m=\u001b[0m \u001b[0mcreate_and_fit_model\u001b[0m\u001b[1;33m(\u001b[0m\u001b[0mX_train\u001b[0m\u001b[1;33m,\u001b[0m \u001b[0mX_val\u001b[0m\u001b[1;33m,\u001b[0m \u001b[0my_train\u001b[0m\u001b[1;33m,\u001b[0m \u001b[0my_val\u001b[0m\u001b[1;33m)\u001b[0m\u001b[1;33m\u001b[0m\u001b[1;33m\u001b[0m\u001b[0m\n",
      "\u001b[1;31mNameError\u001b[0m: name 'train_test_split' is not defined"
     ]
    }
   ],
   "source": [
    "n_repeat = 5\n",
    "n_folds = 3\n",
    "cv_scores, model_history = list(), list()\n",
    "for _ in range(n_folds):\n",
    "    # split data\n",
    "    X_train, X_val, y_train, y_val = train_test_split(X,  onehot_encoded_y, test_size=0.10, \n",
    "                                                      random_state = np.random.randint(1,1000, 1)[0],\n",
    "                                                      stratify = onehot_encoded_y)\n",
    "    # evaluate model\n",
    "    model, test_acc = create_and_fit_model(X_train, X_val, y_train, y_val)\n",
    "    val_acc = model.evaluate(X_val, y_val, verbose = 1)\n",
    "    print(val_acc)\n",
    "    cv_scores.append(val_acc)\n",
    "    #model_history.append(model)\n",
    "print('Estimated Accuracy %.3f (%.3f)' % (np.mean(cv_scores), np.std(cv_scores)))"
   ]
  },
  {
   "cell_type": "code",
   "execution_count": null,
   "metadata": {
    "colab": {
     "base_uri": "https://localhost:8080/",
     "height": 34
    },
    "id": "aNGNoRLwRDar",
    "outputId": "91127ab0-99bc-43b7-e6d2-f2606924b49e"
   },
   "outputs": [
    {
     "name": "stdout",
     "output_type": "stream",
     "text": [
      "[[0.6951998820125304, 0.50283724], [0.6968637408747758, 0.49226207], [0.6946420322412802, 0.5014831]]\n"
     ]
    }
   ],
   "source": [
    "print(cv_scores)"
   ]
  },
  {
   "cell_type": "code",
   "execution_count": null,
   "metadata": {
    "id": "bJuwgkNSRVYu"
   },
   "outputs": [],
   "source": [
    "import csv\n",
    "with open('deepnn_cv_accuracies.csv', 'a+', newline='') as comparison_file:\n",
    "    acc_writer = csv.writer(comparison_file, delimiter=',')\n",
    "    acc_writer.writerow(cv_scores)\n"
   ]
  },
  {
   "cell_type": "code",
   "execution_count": null,
   "metadata": {
    "id": "uQcw-Pma7gwD"
   },
   "outputs": [],
   "source": []
  },
  {
   "cell_type": "code",
   "execution_count": null,
   "metadata": {
    "id": "YlnpM6TYVJIQ"
   },
   "outputs": [],
   "source": [
    "from google.colab import files\n",
    "files.download('deepnn_cv_accuracies.csv') "
   ]
  }
 ],
 "metadata": {
  "accelerator": "GPU",
  "colab": {
   "collapsed_sections": [],
   "name": "Copy of cnn_large_with_cv.ipynb",
   "provenance": []
  },
  "kernelspec": {
   "display_name": "Python 3",
   "language": "python",
   "name": "python3"
  },
  "language_info": {
   "codemirror_mode": {
    "name": "ipython",
    "version": 3
   },
   "file_extension": ".py",
   "mimetype": "text/x-python",
   "name": "python",
   "nbconvert_exporter": "python",
   "pygments_lexer": "ipython3",
   "version": "3.7.6"
  }
 },
 "nbformat": 4,
 "nbformat_minor": 4
}
